{
 "cells": [
  {
   "cell_type": "markdown",
   "metadata": {},
   "source": [
    "# Integrate ClearML"
   ]
  },
  {
   "cell_type": "code",
   "execution_count": 1,
   "metadata": {},
   "outputs": [],
   "source": [
    "from clearml import Task"
   ]
  },
  {
   "cell_type": "code",
   "execution_count": 2,
   "metadata": {},
   "outputs": [
    {
     "name": "stdout",
     "output_type": "stream",
     "text": [
      "ClearML Task: created new task id=9cd6baf8c86443009e8d4ae7b9ad16e8\n",
      "ClearML results page: https://app.clear.ml/projects/f5e21c80429b490ea4443d4f94353224/experiments/9cd6baf8c86443009e8d4ae7b9ad16e8/output/log\n",
      "ClearML Monitor: GPU monitoring failed getting GPU reading, switching off GPU monitoring\n"
     ]
    }
   ],
   "source": [
    "task = Task.init(project_name=\"PCOS Diagnosis\", task_name= \"CNN\")"
   ]
  },
  {
   "cell_type": "code",
   "execution_count": 3,
   "metadata": {},
   "outputs": [],
   "source": [
    "logger = task.get_logger()"
   ]
  },
  {
   "cell_type": "markdown",
   "metadata": {},
   "source": [
    "# Importing Necessary Modules"
   ]
  },
  {
   "cell_type": "code",
   "execution_count": 4,
   "metadata": {},
   "outputs": [],
   "source": [
    "import sys\n",
    "import pandas as pd\n",
    "import numpy as np\n",
    "import matplotlib.pyplot as plt\n",
    "%matplotlib inline\n",
    "plt.style.use(\"ggplot\")\n",
    "plt.rcParams['figure.figsize'] = (12, 8)\n",
    "import seaborn as sns\n",
    "sns.set(style='whitegrid', color_codes=True)\n",
    "import warnings\n",
    "warnings.filterwarnings('ignore')\n",
    "from sklearn.feature_selection import chi2,f_classif, mutual_info_classif, SelectKBest\n",
    "from sklearn.model_selection import train_test_split, cross_val_score\n",
    "from sklearn.model_selection import RepeatedStratifiedKFold\n",
    "from sklearn.model_selection import StratifiedKFold\n",
    "from yellowbrick.model_selection import CVScores\n",
    "from sklearn.metrics import confusion_matrix"
   ]
  },
  {
   "cell_type": "markdown",
   "metadata": {},
   "source": [
    "# Load Dataset"
   ]
  },
  {
   "cell_type": "code",
   "execution_count": 5,
   "metadata": {},
   "outputs": [
    {
     "data": {
      "text/html": [
       "<div>\n",
       "<style scoped>\n",
       "    .dataframe tbody tr th:only-of-type {\n",
       "        vertical-align: middle;\n",
       "    }\n",
       "\n",
       "    .dataframe tbody tr th {\n",
       "        vertical-align: top;\n",
       "    }\n",
       "\n",
       "    .dataframe thead th {\n",
       "        text-align: right;\n",
       "    }\n",
       "</style>\n",
       "<table border=\"1\" class=\"dataframe\">\n",
       "  <thead>\n",
       "    <tr style=\"text-align: right;\">\n",
       "      <th></th>\n",
       "      <th>PCOS (Y/N)</th>\n",
       "      <th>Age (yrs)</th>\n",
       "      <th>Weight (Kg)</th>\n",
       "      <th>Height(Cm)</th>\n",
       "      <th>BMI</th>\n",
       "      <th>Blood Group</th>\n",
       "      <th>Pulse rate(bpm)</th>\n",
       "      <th>RR (breaths/min)</th>\n",
       "      <th>Hb(g/dl)</th>\n",
       "      <th>Cycle(R/I)</th>\n",
       "      <th>...</th>\n",
       "      <th>Pimples(Y/N)</th>\n",
       "      <th>Fast food (Y/N)</th>\n",
       "      <th>Reg.Exercise(Y/N)</th>\n",
       "      <th>BP _Systolic (mmHg)</th>\n",
       "      <th>BP _Diastolic (mmHg)</th>\n",
       "      <th>Follicle No. (L)</th>\n",
       "      <th>Follicle No. (R)</th>\n",
       "      <th>Avg. F size (L) (mm)</th>\n",
       "      <th>Avg. F size (R) (mm)</th>\n",
       "      <th>Endometrium (mm)</th>\n",
       "    </tr>\n",
       "  </thead>\n",
       "  <tbody>\n",
       "    <tr>\n",
       "      <th>0</th>\n",
       "      <td>0</td>\n",
       "      <td>28</td>\n",
       "      <td>44.6</td>\n",
       "      <td>152.0</td>\n",
       "      <td>19.30</td>\n",
       "      <td>15</td>\n",
       "      <td>78</td>\n",
       "      <td>22</td>\n",
       "      <td>10.48</td>\n",
       "      <td>0</td>\n",
       "      <td>...</td>\n",
       "      <td>0</td>\n",
       "      <td>1.0</td>\n",
       "      <td>0</td>\n",
       "      <td>110</td>\n",
       "      <td>80</td>\n",
       "      <td>3</td>\n",
       "      <td>3</td>\n",
       "      <td>18.0</td>\n",
       "      <td>18.0</td>\n",
       "      <td>8.5</td>\n",
       "    </tr>\n",
       "    <tr>\n",
       "      <th>1</th>\n",
       "      <td>0</td>\n",
       "      <td>36</td>\n",
       "      <td>65.0</td>\n",
       "      <td>161.5</td>\n",
       "      <td>24.92</td>\n",
       "      <td>15</td>\n",
       "      <td>74</td>\n",
       "      <td>20</td>\n",
       "      <td>11.70</td>\n",
       "      <td>0</td>\n",
       "      <td>...</td>\n",
       "      <td>0</td>\n",
       "      <td>0.0</td>\n",
       "      <td>0</td>\n",
       "      <td>120</td>\n",
       "      <td>70</td>\n",
       "      <td>3</td>\n",
       "      <td>5</td>\n",
       "      <td>15.0</td>\n",
       "      <td>14.0</td>\n",
       "      <td>3.7</td>\n",
       "    </tr>\n",
       "    <tr>\n",
       "      <th>2</th>\n",
       "      <td>1</td>\n",
       "      <td>33</td>\n",
       "      <td>68.8</td>\n",
       "      <td>165.0</td>\n",
       "      <td>25.27</td>\n",
       "      <td>11</td>\n",
       "      <td>72</td>\n",
       "      <td>18</td>\n",
       "      <td>11.80</td>\n",
       "      <td>0</td>\n",
       "      <td>...</td>\n",
       "      <td>1</td>\n",
       "      <td>1.0</td>\n",
       "      <td>0</td>\n",
       "      <td>120</td>\n",
       "      <td>80</td>\n",
       "      <td>13</td>\n",
       "      <td>15</td>\n",
       "      <td>18.0</td>\n",
       "      <td>20.0</td>\n",
       "      <td>10.0</td>\n",
       "    </tr>\n",
       "    <tr>\n",
       "      <th>3</th>\n",
       "      <td>0</td>\n",
       "      <td>37</td>\n",
       "      <td>65.0</td>\n",
       "      <td>148.0</td>\n",
       "      <td>29.67</td>\n",
       "      <td>13</td>\n",
       "      <td>72</td>\n",
       "      <td>20</td>\n",
       "      <td>12.00</td>\n",
       "      <td>0</td>\n",
       "      <td>...</td>\n",
       "      <td>0</td>\n",
       "      <td>0.0</td>\n",
       "      <td>0</td>\n",
       "      <td>120</td>\n",
       "      <td>70</td>\n",
       "      <td>2</td>\n",
       "      <td>2</td>\n",
       "      <td>15.0</td>\n",
       "      <td>14.0</td>\n",
       "      <td>7.5</td>\n",
       "    </tr>\n",
       "    <tr>\n",
       "      <th>4</th>\n",
       "      <td>0</td>\n",
       "      <td>25</td>\n",
       "      <td>52.0</td>\n",
       "      <td>161.0</td>\n",
       "      <td>20.06</td>\n",
       "      <td>11</td>\n",
       "      <td>72</td>\n",
       "      <td>18</td>\n",
       "      <td>10.00</td>\n",
       "      <td>0</td>\n",
       "      <td>...</td>\n",
       "      <td>0</td>\n",
       "      <td>0.0</td>\n",
       "      <td>0</td>\n",
       "      <td>120</td>\n",
       "      <td>80</td>\n",
       "      <td>3</td>\n",
       "      <td>4</td>\n",
       "      <td>16.0</td>\n",
       "      <td>14.0</td>\n",
       "      <td>7.0</td>\n",
       "    </tr>\n",
       "    <tr>\n",
       "      <th>5</th>\n",
       "      <td>0</td>\n",
       "      <td>36</td>\n",
       "      <td>74.1</td>\n",
       "      <td>165.0</td>\n",
       "      <td>27.22</td>\n",
       "      <td>15</td>\n",
       "      <td>78</td>\n",
       "      <td>28</td>\n",
       "      <td>11.20</td>\n",
       "      <td>0</td>\n",
       "      <td>...</td>\n",
       "      <td>0</td>\n",
       "      <td>0.0</td>\n",
       "      <td>0</td>\n",
       "      <td>110</td>\n",
       "      <td>70</td>\n",
       "      <td>9</td>\n",
       "      <td>6</td>\n",
       "      <td>16.0</td>\n",
       "      <td>20.0</td>\n",
       "      <td>8.0</td>\n",
       "    </tr>\n",
       "    <tr>\n",
       "      <th>6</th>\n",
       "      <td>0</td>\n",
       "      <td>34</td>\n",
       "      <td>64.0</td>\n",
       "      <td>156.0</td>\n",
       "      <td>26.30</td>\n",
       "      <td>11</td>\n",
       "      <td>72</td>\n",
       "      <td>18</td>\n",
       "      <td>10.90</td>\n",
       "      <td>0</td>\n",
       "      <td>...</td>\n",
       "      <td>0</td>\n",
       "      <td>0.0</td>\n",
       "      <td>0</td>\n",
       "      <td>120</td>\n",
       "      <td>80</td>\n",
       "      <td>6</td>\n",
       "      <td>6</td>\n",
       "      <td>15.0</td>\n",
       "      <td>16.0</td>\n",
       "      <td>6.8</td>\n",
       "    </tr>\n",
       "    <tr>\n",
       "      <th>7</th>\n",
       "      <td>0</td>\n",
       "      <td>33</td>\n",
       "      <td>58.5</td>\n",
       "      <td>159.0</td>\n",
       "      <td>23.14</td>\n",
       "      <td>13</td>\n",
       "      <td>72</td>\n",
       "      <td>20</td>\n",
       "      <td>11.00</td>\n",
       "      <td>0</td>\n",
       "      <td>...</td>\n",
       "      <td>0</td>\n",
       "      <td>0.0</td>\n",
       "      <td>0</td>\n",
       "      <td>120</td>\n",
       "      <td>80</td>\n",
       "      <td>7</td>\n",
       "      <td>6</td>\n",
       "      <td>15.0</td>\n",
       "      <td>18.0</td>\n",
       "      <td>7.1</td>\n",
       "    </tr>\n",
       "    <tr>\n",
       "      <th>8</th>\n",
       "      <td>0</td>\n",
       "      <td>32</td>\n",
       "      <td>40.0</td>\n",
       "      <td>158.0</td>\n",
       "      <td>16.02</td>\n",
       "      <td>11</td>\n",
       "      <td>72</td>\n",
       "      <td>18</td>\n",
       "      <td>11.80</td>\n",
       "      <td>0</td>\n",
       "      <td>...</td>\n",
       "      <td>0</td>\n",
       "      <td>0.0</td>\n",
       "      <td>0</td>\n",
       "      <td>120</td>\n",
       "      <td>80</td>\n",
       "      <td>5</td>\n",
       "      <td>7</td>\n",
       "      <td>17.0</td>\n",
       "      <td>17.0</td>\n",
       "      <td>4.2</td>\n",
       "    </tr>\n",
       "    <tr>\n",
       "      <th>9</th>\n",
       "      <td>0</td>\n",
       "      <td>36</td>\n",
       "      <td>52.0</td>\n",
       "      <td>150.0</td>\n",
       "      <td>23.11</td>\n",
       "      <td>15</td>\n",
       "      <td>80</td>\n",
       "      <td>20</td>\n",
       "      <td>10.00</td>\n",
       "      <td>1</td>\n",
       "      <td>...</td>\n",
       "      <td>0</td>\n",
       "      <td>0.0</td>\n",
       "      <td>0</td>\n",
       "      <td>110</td>\n",
       "      <td>80</td>\n",
       "      <td>1</td>\n",
       "      <td>1</td>\n",
       "      <td>14.0</td>\n",
       "      <td>17.0</td>\n",
       "      <td>2.5</td>\n",
       "    </tr>\n",
       "    <tr>\n",
       "      <th>10</th>\n",
       "      <td>0</td>\n",
       "      <td>20</td>\n",
       "      <td>71.0</td>\n",
       "      <td>163.0</td>\n",
       "      <td>26.72</td>\n",
       "      <td>15</td>\n",
       "      <td>80</td>\n",
       "      <td>20</td>\n",
       "      <td>10.00</td>\n",
       "      <td>0</td>\n",
       "      <td>...</td>\n",
       "      <td>0</td>\n",
       "      <td>0.0</td>\n",
       "      <td>0</td>\n",
       "      <td>110</td>\n",
       "      <td>80</td>\n",
       "      <td>7</td>\n",
       "      <td>15</td>\n",
       "      <td>17.0</td>\n",
       "      <td>20.0</td>\n",
       "      <td>6.0</td>\n",
       "    </tr>\n",
       "    <tr>\n",
       "      <th>11</th>\n",
       "      <td>0</td>\n",
       "      <td>26</td>\n",
       "      <td>49.0</td>\n",
       "      <td>160.0</td>\n",
       "      <td>19.14</td>\n",
       "      <td>13</td>\n",
       "      <td>72</td>\n",
       "      <td>20</td>\n",
       "      <td>9.50</td>\n",
       "      <td>0</td>\n",
       "      <td>...</td>\n",
       "      <td>0</td>\n",
       "      <td>0.0</td>\n",
       "      <td>0</td>\n",
       "      <td>120</td>\n",
       "      <td>80</td>\n",
       "      <td>4</td>\n",
       "      <td>2</td>\n",
       "      <td>18.0</td>\n",
       "      <td>19.0</td>\n",
       "      <td>7.8</td>\n",
       "    </tr>\n",
       "  </tbody>\n",
       "</table>\n",
       "<p>12 rows × 42 columns</p>\n",
       "</div>"
      ],
      "text/plain": [
       "    PCOS (Y/N)  Age (yrs)  Weight (Kg)  Height(Cm)    BMI  Blood Group  \\\n",
       "0            0         28         44.6       152.0  19.30           15   \n",
       "1            0         36         65.0       161.5  24.92           15   \n",
       "2            1         33         68.8       165.0  25.27           11   \n",
       "3            0         37         65.0       148.0  29.67           13   \n",
       "4            0         25         52.0       161.0  20.06           11   \n",
       "5            0         36         74.1       165.0  27.22           15   \n",
       "6            0         34         64.0       156.0  26.30           11   \n",
       "7            0         33         58.5       159.0  23.14           13   \n",
       "8            0         32         40.0       158.0  16.02           11   \n",
       "9            0         36         52.0       150.0  23.11           15   \n",
       "10           0         20         71.0       163.0  26.72           15   \n",
       "11           0         26         49.0       160.0  19.14           13   \n",
       "\n",
       "    Pulse rate(bpm)  RR (breaths/min)  Hb(g/dl)  Cycle(R/I)  ...  \\\n",
       "0                78                22     10.48           0  ...   \n",
       "1                74                20     11.70           0  ...   \n",
       "2                72                18     11.80           0  ...   \n",
       "3                72                20     12.00           0  ...   \n",
       "4                72                18     10.00           0  ...   \n",
       "5                78                28     11.20           0  ...   \n",
       "6                72                18     10.90           0  ...   \n",
       "7                72                20     11.00           0  ...   \n",
       "8                72                18     11.80           0  ...   \n",
       "9                80                20     10.00           1  ...   \n",
       "10               80                20     10.00           0  ...   \n",
       "11               72                20      9.50           0  ...   \n",
       "\n",
       "    Pimples(Y/N)  Fast food (Y/N)  Reg.Exercise(Y/N)  BP _Systolic (mmHg)  \\\n",
       "0              0              1.0                  0                  110   \n",
       "1              0              0.0                  0                  120   \n",
       "2              1              1.0                  0                  120   \n",
       "3              0              0.0                  0                  120   \n",
       "4              0              0.0                  0                  120   \n",
       "5              0              0.0                  0                  110   \n",
       "6              0              0.0                  0                  120   \n",
       "7              0              0.0                  0                  120   \n",
       "8              0              0.0                  0                  120   \n",
       "9              0              0.0                  0                  110   \n",
       "10             0              0.0                  0                  110   \n",
       "11             0              0.0                  0                  120   \n",
       "\n",
       "    BP _Diastolic (mmHg)  Follicle No. (L)  Follicle No. (R)  \\\n",
       "0                     80                 3                 3   \n",
       "1                     70                 3                 5   \n",
       "2                     80                13                15   \n",
       "3                     70                 2                 2   \n",
       "4                     80                 3                 4   \n",
       "5                     70                 9                 6   \n",
       "6                     80                 6                 6   \n",
       "7                     80                 7                 6   \n",
       "8                     80                 5                 7   \n",
       "9                     80                 1                 1   \n",
       "10                    80                 7                15   \n",
       "11                    80                 4                 2   \n",
       "\n",
       "    Avg. F size (L) (mm)  Avg. F size (R) (mm)  Endometrium (mm)  \n",
       "0                   18.0                  18.0               8.5  \n",
       "1                   15.0                  14.0               3.7  \n",
       "2                   18.0                  20.0              10.0  \n",
       "3                   15.0                  14.0               7.5  \n",
       "4                   16.0                  14.0               7.0  \n",
       "5                   16.0                  20.0               8.0  \n",
       "6                   15.0                  16.0               6.8  \n",
       "7                   15.0                  18.0               7.1  \n",
       "8                   17.0                  17.0               4.2  \n",
       "9                   14.0                  17.0               2.5  \n",
       "10                  17.0                  20.0               6.0  \n",
       "11                  18.0                  19.0               7.8  \n",
       "\n",
       "[12 rows x 42 columns]"
      ]
     },
     "execution_count": 5,
     "metadata": {},
     "output_type": "execute_result"
    }
   ],
   "source": [
    "df = pd.read_csv('../../datasets/PCOS_clean_data_without_infertility.csv')\n",
    "df.head(12)"
   ]
  },
  {
   "cell_type": "code",
   "execution_count": 6,
   "metadata": {},
   "outputs": [
    {
     "name": "stdout",
     "output_type": "stream",
     "text": [
      "<class 'pandas.core.frame.DataFrame'>\n",
      "RangeIndex: 538 entries, 0 to 537\n",
      "Data columns (total 42 columns):\n",
      " #   Column                  Non-Null Count  Dtype  \n",
      "---  ------                  --------------  -----  \n",
      " 0   PCOS (Y/N)              538 non-null    int64  \n",
      " 1   Age (yrs)               538 non-null    int64  \n",
      " 2   Weight (Kg)             538 non-null    float64\n",
      " 3   Height(Cm)              538 non-null    float64\n",
      " 4   BMI                     538 non-null    float64\n",
      " 5   Blood Group             538 non-null    int64  \n",
      " 6   Pulse rate(bpm)         538 non-null    int64  \n",
      " 7   RR (breaths/min)        538 non-null    int64  \n",
      " 8   Hb(g/dl)                538 non-null    float64\n",
      " 9   Cycle(R/I)              538 non-null    int64  \n",
      " 10  Cycle length(days)      538 non-null    int64  \n",
      " 11  Marraige Status (Yrs)   538 non-null    float64\n",
      " 12  Pregnant(Y/N)           538 non-null    int64  \n",
      " 13  No. of aborptions       538 non-null    int64  \n",
      " 14  I   beta-HCG(mIU/mL)    538 non-null    float64\n",
      " 15  II    beta-HCG(mIU/mL)  538 non-null    float64\n",
      " 16  FSH(mIU/mL)             538 non-null    float64\n",
      " 17  LH(mIU/mL)              538 non-null    float64\n",
      " 18  FSH/LH                  538 non-null    float64\n",
      " 19  Hip(inch)               538 non-null    int64  \n",
      " 20  Waist(inch)             538 non-null    int64  \n",
      " 21  Waist:Hip Ratio         538 non-null    float64\n",
      " 22  TSH (mIU/L)             538 non-null    float64\n",
      " 23  AMH(ng/mL)              538 non-null    float64\n",
      " 24  PRL(ng/mL)              538 non-null    float64\n",
      " 25  Vit D3 (ng/mL)          538 non-null    float64\n",
      " 26  PRG(ng/mL)              538 non-null    float64\n",
      " 27  RBS(mg/dl)              538 non-null    float64\n",
      " 28  Weight gain(Y/N)        538 non-null    int64  \n",
      " 29  hair growth(Y/N)        538 non-null    int64  \n",
      " 30  Skin darkening (Y/N)    538 non-null    int64  \n",
      " 31  Hair loss(Y/N)          538 non-null    int64  \n",
      " 32  Pimples(Y/N)            538 non-null    int64  \n",
      " 33  Fast food (Y/N)         538 non-null    float64\n",
      " 34  Reg.Exercise(Y/N)       538 non-null    int64  \n",
      " 35  BP _Systolic (mmHg)     538 non-null    int64  \n",
      " 36  BP _Diastolic (mmHg)    538 non-null    int64  \n",
      " 37  Follicle No. (L)        538 non-null    int64  \n",
      " 38  Follicle No. (R)        538 non-null    int64  \n",
      " 39  Avg. F size (L) (mm)    538 non-null    float64\n",
      " 40  Avg. F size (R) (mm)    538 non-null    float64\n",
      " 41  Endometrium (mm)        538 non-null    float64\n",
      "dtypes: float64(21), int64(21)\n",
      "memory usage: 176.7 KB\n"
     ]
    }
   ],
   "source": [
    "df.info()"
   ]
  },
  {
   "cell_type": "code",
   "execution_count": 8,
   "metadata": {},
   "outputs": [],
   "source": [
    "logger.report_table(\"PCOS Cleaned Dataset\", \"Original\", iteration=0, table_plot=df)"
   ]
  },
  {
   "cell_type": "code",
   "execution_count": 9,
   "metadata": {},
   "outputs": [],
   "source": [
    "X = df.drop([\"PCOS (Y/N)\",\n",
    "            \"Blood Group\",\n",
    "            \"Height(Cm)\",\n",
    "            \"Pregnant(Y/N)\",\n",
    "             \"PRG(ng/mL)\",\n",
    "            \"RR (breaths/min)\",\n",
    "            \"No. of aborptions\",\n",
    "            \"FSH/LH\",\n",
    "            \"I   beta-HCG(mIU/mL)\",\n",
    "            \"II    beta-HCG(mIU/mL)\",\n",
    "            \"TSH (mIU/L)\",\n",
    "            \"FSH(mIU/mL)\",\n",
    "            \"LH(mIU/mL)\",\n",
    "            \"Waist:Hip Ratio\",\n",
    "            \"PRL(ng/mL)\",\n",
    "            \"BP _Diastolic (mmHg)\",\n",
    "            \"BP _Systolic (mmHg)\",\n",
    "            \"Reg.Exercise(Y/N)\",\n",
    "            \"RBS(mg/dl)\"\n",
    "            ],axis=1)"
   ]
  },
  {
   "cell_type": "code",
   "execution_count": 10,
   "metadata": {},
   "outputs": [],
   "source": [
    "y = df[[\"PCOS (Y/N)\"]]"
   ]
  },
  {
   "cell_type": "markdown",
   "metadata": {},
   "source": [
    "# Data Augmentation"
   ]
  },
  {
   "cell_type": "markdown",
   "metadata": {},
   "source": [
    "## Resampling on Complete Dataset"
   ]
  },
  {
   "cell_type": "code",
   "execution_count": 11,
   "metadata": {},
   "outputs": [],
   "source": [
    "from imblearn.combine import SMOTEENN\n",
    "\n",
    "resample = SMOTEENN(sampling_strategy=\"auto\", random_state =0)\n",
    "X, y = resample.fit_resample(X, y)"
   ]
  },
  {
   "cell_type": "code",
   "execution_count": 12,
   "metadata": {},
   "outputs": [],
   "source": [
    "logger.report_table(\"PCOS Cleaned Dataset - X\", \"Over-Under Sampled\", iteration=0, table_plot=X)"
   ]
  },
  {
   "cell_type": "code",
   "execution_count": 13,
   "metadata": {},
   "outputs": [],
   "source": [
    "logger.report_table(\"PCOS Cleaned Dataset - y\", \"Over-Under Sampled\", iteration=0, table_plot=y)"
   ]
  },
  {
   "cell_type": "markdown",
   "metadata": {},
   "source": [
    "## Splitting"
   ]
  },
  {
   "cell_type": "code",
   "execution_count": 14,
   "metadata": {},
   "outputs": [],
   "source": [
    "X_train, X_test, y_train, y_test = train_test_split(X, y, test_size=0.2, random_state=0, stratify= y)"
   ]
  },
  {
   "cell_type": "code",
   "execution_count": 15,
   "metadata": {},
   "outputs": [],
   "source": [
    "X_train, X_dev, y_train, y_dev = train_test_split(X_train, y_train, test_size=0.15, random_state=0, stratify= y_train)"
   ]
  },
  {
   "cell_type": "code",
   "execution_count": 16,
   "metadata": {},
   "outputs": [
    {
     "data": {
      "text/plain": [
       "(325, 23)"
      ]
     },
     "execution_count": 16,
     "metadata": {},
     "output_type": "execute_result"
    }
   ],
   "source": [
    "X_train.shape"
   ]
  },
  {
   "cell_type": "code",
   "execution_count": 17,
   "metadata": {},
   "outputs": [
    {
     "data": {
      "text/plain": [
       "(96, 23)"
      ]
     },
     "execution_count": 17,
     "metadata": {},
     "output_type": "execute_result"
    }
   ],
   "source": [
    "X_test.shape"
   ]
  },
  {
   "cell_type": "code",
   "execution_count": 18,
   "metadata": {},
   "outputs": [
    {
     "data": {
      "text/plain": [
       "(58, 23)"
      ]
     },
     "execution_count": 18,
     "metadata": {},
     "output_type": "execute_result"
    }
   ],
   "source": [
    "X_dev.shape"
   ]
  },
  {
   "cell_type": "markdown",
   "metadata": {},
   "source": [
    "## Scaling"
   ]
  },
  {
   "cell_type": "code",
   "execution_count": 19,
   "metadata": {},
   "outputs": [],
   "source": [
    "from sklearn.preprocessing import RobustScaler, StandardScaler, MinMaxScaler\n",
    "\n",
    "scaler = MinMaxScaler().fit(X_train)\n",
    "\n",
    "X_train = scaler.transform(X_train)\n",
    "X_train = pd.DataFrame(X_train)\n",
    "\n",
    "X_dev = scaler.transform(X_dev)\n",
    "X_dev = pd.DataFrame(X_dev)\n",
    "\n",
    "X_test = scaler.transform(X_test)\n",
    "X_test = pd.DataFrame(X_test)\n",
    "\n",
    "\n",
    "# Setting Column Names from dataset\n",
    "X_train.columns = X.columns\n",
    "X_test.columns = X.columns\n",
    "X_dev.columns = X.columns"
   ]
  },
  {
   "cell_type": "markdown",
   "metadata": {},
   "source": [
    "# CNN"
   ]
  },
  {
   "cell_type": "code",
   "execution_count": 20,
   "metadata": {},
   "outputs": [
    {
     "name": "stderr",
     "output_type": "stream",
     "text": [
      "2022-04-13 16:35:47.752914: W tensorflow/stream_executor/platform/default/dso_loader.cc:64] Could not load dynamic library 'libcudart.so.11.0'; dlerror: libcudart.so.11.0: cannot open shared object file: No such file or directory; LD_LIBRARY_PATH: /usr/lib/fsl/5.0\n",
      "2022-04-13 16:35:47.752952: I tensorflow/stream_executor/cuda/cudart_stub.cc:29] Ignore above cudart dlerror if you do not have a GPU set up on your machine.\n"
     ]
    }
   ],
   "source": [
    "import tensorflow as tf\n",
    "from tensorflow.keras import datasets, layers, models"
   ]
  },
  {
   "cell_type": "code",
   "execution_count": 21,
   "metadata": {},
   "outputs": [],
   "source": [
    "X_train = X_train.to_numpy().reshape(X_train.shape[0], X_train.shape[1], 1)"
   ]
  },
  {
   "cell_type": "code",
   "execution_count": 22,
   "metadata": {},
   "outputs": [],
   "source": [
    "# y_train = y_train.to_numpy().reshape(y_train.shape[0], 1)"
   ]
  },
  {
   "cell_type": "code",
   "execution_count": 23,
   "metadata": {},
   "outputs": [],
   "source": [
    "X_test = X_test.to_numpy().reshape(X_test.shape[0], X_test.shape[1], 1)"
   ]
  },
  {
   "cell_type": "code",
   "execution_count": 24,
   "metadata": {},
   "outputs": [],
   "source": [
    "# y_test = y_test.to_numpy().reshape(y_test.shape[0], 1)"
   ]
  },
  {
   "cell_type": "code",
   "execution_count": 25,
   "metadata": {},
   "outputs": [],
   "source": [
    "X_dev = X_dev.to_numpy().reshape(X_dev.shape[0], X_dev.shape[1], 1)"
   ]
  },
  {
   "cell_type": "code",
   "execution_count": 26,
   "metadata": {},
   "outputs": [],
   "source": [
    "# y_dev = y_dev.to_numpy().reshape(y_dev.shape[0], 1)"
   ]
  },
  {
   "cell_type": "code",
   "execution_count": 27,
   "metadata": {},
   "outputs": [],
   "source": [
    "from tensorflow.keras.utils import to_categorical\n",
    "y_train = to_categorical(y_train, 2)\n",
    "y_test = to_categorical(y_test, 2)\n",
    "y_dev = to_categorical(y_dev, 2)"
   ]
  },
  {
   "cell_type": "markdown",
   "metadata": {},
   "source": [
    "### Hyperparameters Define"
   ]
  },
  {
   "cell_type": "code",
   "execution_count": 28,
   "metadata": {},
   "outputs": [],
   "source": [
    "parameters = {\n",
    "    'optimizer': \"Adam\",\n",
    "    'epochs': 200,\n",
    "    'early_stopping_paitence':50,\n",
    "    'loss': 'binary_crossentropy',\n",
    "    'metric': ['AUC','accuracy', 'Precision', 'Recall']\n",
    "}"
   ]
  },
  {
   "cell_type": "code",
   "execution_count": 29,
   "metadata": {},
   "outputs": [],
   "source": [
    "# Report to ClearML\n",
    "parameters = task.connect(parameters, name=\"Hyperparameters\")"
   ]
  },
  {
   "cell_type": "markdown",
   "metadata": {},
   "source": [
    "### Build Model"
   ]
  },
  {
   "cell_type": "code",
   "execution_count": 30,
   "metadata": {},
   "outputs": [
    {
     "name": "stderr",
     "output_type": "stream",
     "text": [
      "2022-04-13 16:37:02.902777: W tensorflow/stream_executor/platform/default/dso_loader.cc:64] Could not load dynamic library 'libcuda.so.1'; dlerror: libcuda.so.1: cannot open shared object file: No such file or directory; LD_LIBRARY_PATH: /usr/lib/fsl/5.0\n",
      "2022-04-13 16:37:02.902815: W tensorflow/stream_executor/cuda/cuda_driver.cc:269] failed call to cuInit: UNKNOWN ERROR (303)\n",
      "2022-04-13 16:37:02.902840: I tensorflow/stream_executor/cuda/cuda_diagnostics.cc:156] kernel driver does not appear to be running on this host (thinkpad): /proc/driver/nvidia/version does not exist\n",
      "2022-04-13 16:37:02.904327: I tensorflow/core/platform/cpu_feature_guard.cc:151] This TensorFlow binary is optimized with oneAPI Deep Neural Network Library (oneDNN) to use the following CPU instructions in performance-critical operations:  AVX2 FMA\n",
      "To enable them in other operations, rebuild TensorFlow with the appropriate compiler flags.\n"
     ]
    }
   ],
   "source": [
    "model = models.Sequential()\n",
    "model.add(layers.Conv1D(128, (3), activation='relu', input_shape=X_train.shape[1:]))\n",
    "model.add(layers.Conv1D(64, (3), activation='relu'))\n",
    "model.add(layers.Conv1D(32, (3), activation='relu'))\n",
    "model.add(layers.Conv1D(64, (3), activation='relu'))\n",
    "model.add(layers.Conv1D(64, (5), activation='relu'))\n",
    "model.add(layers.Conv1D(32, (5), activation='relu'))"
   ]
  },
  {
   "cell_type": "code",
   "execution_count": 31,
   "metadata": {},
   "outputs": [],
   "source": [
    "model.add(layers.Flatten())\n",
    "model.add(layers.Dense(128, activation='relu'))\n",
    "model.add(layers.Dense(128, activation='relu'))\n",
    "model.add(layers.Dense(64, activation='relu'))\n",
    "model.add(layers.Dense(32, activation='relu'))\n",
    "model.add(layers.Dense(32, activation='relu'))\n",
    "model.add(layers.Dense(2, activation='sigmoid'))"
   ]
  },
  {
   "cell_type": "code",
   "execution_count": 32,
   "metadata": {},
   "outputs": [],
   "source": [
    "callbacks = [\n",
    "        tf.keras.callbacks.EarlyStopping(patience=parameters['early_stopping_paitence'], monitor='val_loss', mode='min'),\n",
    "        tf.keras.callbacks.TensorBoard(log_dir='logs')]"
   ]
  },
  {
   "cell_type": "code",
   "execution_count": 33,
   "metadata": {},
   "outputs": [],
   "source": [
    "model.compile(optimizer=parameters['optimizer'],\n",
    "              loss=parameters['loss'],\n",
    "              metrics=parameters['metric'])"
   ]
  },
  {
   "cell_type": "code",
   "execution_count": 34,
   "metadata": {},
   "outputs": [],
   "source": [
    "model.build(X_train.shape[1:])"
   ]
  },
  {
   "cell_type": "code",
   "execution_count": 35,
   "metadata": {},
   "outputs": [
    {
     "name": "stdout",
     "output_type": "stream",
     "text": [
      "Model: \"sequential\"\n",
      "_________________________________________________________________\n",
      " Layer (type)                Output Shape              Param #   \n",
      "=================================================================\n",
      " conv1d (Conv1D)             (None, 21, 128)           512       \n",
      "                                                                 \n",
      " conv1d_1 (Conv1D)           (None, 19, 64)            24640     \n",
      "                                                                 \n",
      " conv1d_2 (Conv1D)           (None, 17, 32)            6176      \n",
      "                                                                 \n",
      " conv1d_3 (Conv1D)           (None, 15, 64)            6208      \n",
      "                                                                 \n",
      " conv1d_4 (Conv1D)           (None, 11, 64)            20544     \n",
      "                                                                 \n",
      " conv1d_5 (Conv1D)           (None, 7, 32)             10272     \n",
      "                                                                 \n",
      " flatten (Flatten)           (None, 224)               0         \n",
      "                                                                 \n",
      " dense (Dense)               (None, 128)               28800     \n",
      "                                                                 \n",
      " dense_1 (Dense)             (None, 128)               16512     \n",
      "                                                                 \n",
      " dense_2 (Dense)             (None, 64)                8256      \n",
      "                                                                 \n",
      " dense_3 (Dense)             (None, 32)                2080      \n",
      "                                                                 \n",
      " dense_4 (Dense)             (None, 32)                1056      \n",
      "                                                                 \n",
      " dense_5 (Dense)             (None, 2)                 66        \n",
      "                                                                 \n",
      "=================================================================\n",
      "Total params: 125,122\n",
      "Trainable params: 125,122\n",
      "Non-trainable params: 0\n",
      "_________________________________________________________________\n"
     ]
    }
   ],
   "source": [
    "model.summary()"
   ]
  },
  {
   "cell_type": "code",
   "execution_count": 36,
   "metadata": {},
   "outputs": [
    {
     "name": "stdout",
     "output_type": "stream",
     "text": [
      "Epoch 1/200\n",
      "11/11 [==============================] - 6s 177ms/step - loss: 0.6812 - auc: 0.5899 - accuracy: 0.5508 - precision: 0.5473 - recall: 0.5692 - val_loss: 0.6514 - val_auc: 0.7273 - val_accuracy: 0.5690 - val_precision: 0.5690 - val_recall: 0.5690\n",
      "Epoch 2/200\n",
      "11/11 [==============================] - 1s 48ms/step - loss: 0.6490 - auc: 0.6633 - accuracy: 0.5631 - precision: 0.5671 - recall: 0.5723 - val_loss: 0.6101 - val_auc: 0.7365 - val_accuracy: 0.5690 - val_precision: 0.5690 - val_recall: 0.5690\n",
      "Epoch 3/200\n",
      "11/11 [==============================] - 0s 41ms/step - loss: 0.6094 - auc: 0.7134 - accuracy: 0.6431 - precision: 0.6110 - recall: 0.7200 - val_loss: 0.5596 - val_auc: 0.7857 - val_accuracy: 0.7414 - val_precision: 0.6471 - val_recall: 0.7586\n",
      "Epoch 4/200\n",
      "11/11 [==============================] - 1s 50ms/step - loss: 0.5864 - auc: 0.7528 - accuracy: 0.7262 - precision: 0.6712 - recall: 0.7600 - val_loss: 0.5853 - val_auc: 0.8809 - val_accuracy: 0.8276 - val_precision: 0.7761 - val_recall: 0.8966\n",
      "Epoch 5/200\n",
      "11/11 [==============================] - 1s 49ms/step - loss: 0.5398 - auc: 0.8347 - accuracy: 0.7938 - precision: 0.7739 - recall: 0.8215 - val_loss: 0.3961 - val_auc: 0.9202 - val_accuracy: 0.8793 - val_precision: 0.8793 - val_recall: 0.8793\n",
      "Epoch 6/200\n",
      "11/11 [==============================] - 1s 80ms/step - loss: 0.3430 - auc: 0.9354 - accuracy: 0.8708 - precision: 0.8605 - recall: 0.8923 - val_loss: 0.1921 - val_auc: 0.9774 - val_accuracy: 0.9483 - val_precision: 0.9474 - val_recall: 0.9310\n",
      "Epoch 7/200\n",
      "11/11 [==============================] - 1s 42ms/step - loss: 0.2155 - auc: 0.9678 - accuracy: 0.9292 - precision: 0.9292 - recall: 0.9292 - val_loss: 0.1631 - val_auc: 0.9862 - val_accuracy: 0.9138 - val_precision: 0.9138 - val_recall: 0.9138\n",
      "Epoch 8/200\n",
      "11/11 [==============================] - 0s 41ms/step - loss: 0.2252 - auc: 0.9670 - accuracy: 0.9015 - precision: 0.9015 - recall: 0.9015 - val_loss: 0.1727 - val_auc: 0.9865 - val_accuracy: 0.9310 - val_precision: 0.9474 - val_recall: 0.9310\n",
      "Epoch 9/200\n",
      "11/11 [==============================] - 0s 41ms/step - loss: 0.1651 - auc: 0.9821 - accuracy: 0.9385 - precision: 0.9414 - recall: 0.9385 - val_loss: 0.1055 - val_auc: 0.9935 - val_accuracy: 0.9483 - val_precision: 0.9649 - val_recall: 0.9483\n",
      "Epoch 10/200\n",
      "11/11 [==============================] - 0s 43ms/step - loss: 0.1547 - auc: 0.9830 - accuracy: 0.9508 - precision: 0.9479 - recall: 0.9508 - val_loss: 0.4912 - val_auc: 0.9122 - val_accuracy: 0.8276 - val_precision: 0.8276 - val_recall: 0.8276\n",
      "Epoch 11/200\n",
      "11/11 [==============================] - 0s 37ms/step - loss: 0.1794 - auc: 0.9752 - accuracy: 0.9477 - precision: 0.9477 - recall: 0.9477 - val_loss: 0.1184 - val_auc: 0.9948 - val_accuracy: 0.9655 - val_precision: 0.9655 - val_recall: 0.9655\n",
      "Epoch 12/200\n",
      "11/11 [==============================] - 1s 52ms/step - loss: 0.1326 - auc: 0.9862 - accuracy: 0.9538 - precision: 0.9540 - recall: 0.9569 - val_loss: 0.0643 - val_auc: 1.0000 - val_accuracy: 1.0000 - val_precision: 1.0000 - val_recall: 1.0000\n",
      "Epoch 13/200\n",
      "11/11 [==============================] - 0s 30ms/step - loss: 0.1089 - auc: 0.9888 - accuracy: 0.9723 - precision: 0.9723 - recall: 0.9723 - val_loss: 0.0891 - val_auc: 0.9964 - val_accuracy: 0.9828 - val_precision: 0.9828 - val_recall: 0.9828\n",
      "Epoch 14/200\n",
      "11/11 [==============================] - 1s 66ms/step - loss: 0.0955 - auc: 0.9909 - accuracy: 0.9692 - precision: 0.9692 - recall: 0.9692 - val_loss: 0.0728 - val_auc: 0.9985 - val_accuracy: 0.9828 - val_precision: 0.9828 - val_recall: 0.9828\n",
      "Epoch 15/200\n",
      "11/11 [==============================] - 1s 49ms/step - loss: 0.1596 - auc: 0.9845 - accuracy: 0.9323 - precision: 0.9323 - recall: 0.9323 - val_loss: 0.6177 - val_auc: 0.8936 - val_accuracy: 0.7759 - val_precision: 0.7759 - val_recall: 0.7759\n",
      "Epoch 16/200\n",
      "11/11 [==============================] - 0s 48ms/step - loss: 0.2159 - auc: 0.9675 - accuracy: 0.9354 - precision: 0.9354 - recall: 0.9354 - val_loss: 0.1557 - val_auc: 0.9906 - val_accuracy: 0.9310 - val_precision: 0.9310 - val_recall: 0.9310\n",
      "Epoch 17/200\n",
      "11/11 [==============================] - 1s 50ms/step - loss: 0.1398 - auc: 0.9887 - accuracy: 0.9600 - precision: 0.9599 - recall: 0.9569 - val_loss: 0.1718 - val_auc: 0.9848 - val_accuracy: 0.9310 - val_precision: 0.9298 - val_recall: 0.9138\n",
      "Epoch 18/200\n",
      "11/11 [==============================] - 1s 51ms/step - loss: 0.1342 - auc: 0.9824 - accuracy: 0.9600 - precision: 0.9600 - recall: 0.9600 - val_loss: 0.0893 - val_auc: 0.9958 - val_accuracy: 0.9828 - val_precision: 0.9828 - val_recall: 0.9828\n",
      "Epoch 19/200\n",
      "11/11 [==============================] - 0s 46ms/step - loss: 0.0956 - auc: 0.9903 - accuracy: 0.9723 - precision: 0.9724 - recall: 0.9754 - val_loss: 0.0809 - val_auc: 0.9966 - val_accuracy: 0.9655 - val_precision: 0.9661 - val_recall: 0.9828\n",
      "Epoch 20/200\n",
      "11/11 [==============================] - 0s 42ms/step - loss: 0.0860 - auc: 0.9930 - accuracy: 0.9754 - precision: 0.9754 - recall: 0.9754 - val_loss: 0.1565 - val_auc: 0.9871 - val_accuracy: 0.9483 - val_precision: 0.9474 - val_recall: 0.9310\n",
      "Epoch 21/200\n",
      "11/11 [==============================] - 0s 30ms/step - loss: 0.1263 - auc: 0.9894 - accuracy: 0.9600 - precision: 0.9600 - recall: 0.9600 - val_loss: 0.1545 - val_auc: 0.9905 - val_accuracy: 0.9310 - val_precision: 0.9310 - val_recall: 0.9310\n",
      "Epoch 22/200\n",
      "11/11 [==============================] - 1s 49ms/step - loss: 0.1219 - auc: 0.9893 - accuracy: 0.9662 - precision: 0.9662 - recall: 0.9662 - val_loss: 0.1007 - val_auc: 0.9938 - val_accuracy: 0.9483 - val_precision: 0.9492 - val_recall: 0.9655\n",
      "Epoch 23/200\n",
      "11/11 [==============================] - 1s 51ms/step - loss: 0.0979 - auc: 0.9908 - accuracy: 0.9785 - precision: 0.9785 - recall: 0.9785 - val_loss: 0.1429 - val_auc: 0.9886 - val_accuracy: 0.9310 - val_precision: 0.9310 - val_recall: 0.9310\n",
      "Epoch 24/200\n",
      "11/11 [==============================] - 1s 61ms/step - loss: 0.0954 - auc: 0.9923 - accuracy: 0.9723 - precision: 0.9723 - recall: 0.9723 - val_loss: 0.1105 - val_auc: 0.9952 - val_accuracy: 0.9655 - val_precision: 0.9655 - val_recall: 0.9655\n",
      "Epoch 25/200\n",
      "11/11 [==============================] - 0s 44ms/step - loss: 0.0873 - auc: 0.9927 - accuracy: 0.9754 - precision: 0.9725 - recall: 0.9785 - val_loss: 0.2187 - val_auc: 0.9796 - val_accuracy: 0.9310 - val_precision: 0.9310 - val_recall: 0.9310\n",
      "Epoch 26/200\n",
      "11/11 [==============================] - 1s 52ms/step - loss: 0.0993 - auc: 0.9914 - accuracy: 0.9754 - precision: 0.9754 - recall: 0.9754 - val_loss: 0.2042 - val_auc: 0.9795 - val_accuracy: 0.9483 - val_precision: 0.9483 - val_recall: 0.9483\n",
      "Epoch 27/200\n",
      "11/11 [==============================] - 0s 37ms/step - loss: 0.1449 - auc: 0.9840 - accuracy: 0.9569 - precision: 0.9540 - recall: 0.9569 - val_loss: 0.1493 - val_auc: 0.9866 - val_accuracy: 0.9138 - val_precision: 0.9138 - val_recall: 0.9138\n",
      "Epoch 28/200\n",
      "11/11 [==============================] - 1s 48ms/step - loss: 0.1717 - auc: 0.9828 - accuracy: 0.9385 - precision: 0.9387 - recall: 0.9415 - val_loss: 0.3312 - val_auc: 0.9408 - val_accuracy: 0.8793 - val_precision: 0.8814 - val_recall: 0.8966\n",
      "Epoch 29/200\n",
      "11/11 [==============================] - 0s 40ms/step - loss: 0.1405 - auc: 0.9892 - accuracy: 0.9631 - precision: 0.9601 - recall: 0.9631 - val_loss: 0.2863 - val_auc: 0.9628 - val_accuracy: 0.8793 - val_precision: 0.8793 - val_recall: 0.8793\n",
      "Epoch 30/200\n",
      "11/11 [==============================] - 1s 67ms/step - loss: 0.1191 - auc: 0.9881 - accuracy: 0.9662 - precision: 0.9662 - recall: 0.9662 - val_loss: 0.5201 - val_auc: 0.9132 - val_accuracy: 0.8448 - val_precision: 0.8448 - val_recall: 0.8448\n",
      "Epoch 31/200\n",
      "11/11 [==============================] - 0s 38ms/step - loss: 0.1746 - auc: 0.9804 - accuracy: 0.9385 - precision: 0.9385 - recall: 0.9385 - val_loss: 0.1847 - val_auc: 0.9828 - val_accuracy: 0.9138 - val_precision: 0.9138 - val_recall: 0.9138\n",
      "Epoch 32/200\n",
      "11/11 [==============================] - 1s 50ms/step - loss: 0.1425 - auc: 0.9862 - accuracy: 0.9538 - precision: 0.9512 - recall: 0.9600 - val_loss: 0.1975 - val_auc: 0.9810 - val_accuracy: 0.9310 - val_precision: 0.9310 - val_recall: 0.9310\n",
      "Epoch 33/200\n",
      "11/11 [==============================] - 0s 39ms/step - loss: 0.0875 - auc: 0.9944 - accuracy: 0.9754 - precision: 0.9754 - recall: 0.9754 - val_loss: 0.1259 - val_auc: 0.9914 - val_accuracy: 0.9310 - val_precision: 0.9310 - val_recall: 0.9310\n",
      "Epoch 34/200\n",
      "11/11 [==============================] - 0s 48ms/step - loss: 0.0854 - auc: 0.9922 - accuracy: 0.9754 - precision: 0.9754 - recall: 0.9754 - val_loss: 0.0867 - val_auc: 0.9939 - val_accuracy: 0.9828 - val_precision: 0.9828 - val_recall: 0.9828\n",
      "Epoch 35/200\n",
      "11/11 [==============================] - 0s 34ms/step - loss: 0.0909 - auc: 0.9927 - accuracy: 0.9815 - precision: 0.9815 - recall: 0.9815 - val_loss: 0.1670 - val_auc: 0.9842 - val_accuracy: 0.9483 - val_precision: 0.9483 - val_recall: 0.9483\n",
      "Epoch 36/200\n",
      "11/11 [==============================] - 0s 41ms/step - loss: 0.0675 - auc: 0.9965 - accuracy: 0.9846 - precision: 0.9846 - recall: 0.9846 - val_loss: 0.0889 - val_auc: 0.9955 - val_accuracy: 0.9483 - val_precision: 0.9483 - val_recall: 0.9483\n",
      "Epoch 37/200\n",
      "11/11 [==============================] - 0s 33ms/step - loss: 0.0654 - auc: 0.9965 - accuracy: 0.9846 - precision: 0.9846 - recall: 0.9846 - val_loss: 0.1219 - val_auc: 0.9917 - val_accuracy: 0.9483 - val_precision: 0.9483 - val_recall: 0.9483\n",
      "Epoch 38/200\n",
      "11/11 [==============================] - 0s 44ms/step - loss: 0.0565 - auc: 0.9970 - accuracy: 0.9846 - precision: 0.9846 - recall: 0.9815 - val_loss: 0.1082 - val_auc: 0.9942 - val_accuracy: 0.9483 - val_precision: 0.9483 - val_recall: 0.9483\n",
      "Epoch 39/200\n",
      "11/11 [==============================] - 0s 34ms/step - loss: 0.0416 - auc: 0.9977 - accuracy: 0.9908 - precision: 0.9908 - recall: 0.9908 - val_loss: 0.0781 - val_auc: 0.9964 - val_accuracy: 0.9483 - val_precision: 0.9483 - val_recall: 0.9483\n",
      "Epoch 40/200\n",
      "11/11 [==============================] - 0s 43ms/step - loss: 0.0458 - auc: 0.9981 - accuracy: 0.9877 - precision: 0.9877 - recall: 0.9877 - val_loss: 0.1794 - val_auc: 0.9875 - val_accuracy: 0.9655 - val_precision: 0.9655 - val_recall: 0.9655\n",
      "Epoch 41/200\n",
      "11/11 [==============================] - 0s 39ms/step - loss: 0.0437 - auc: 0.9983 - accuracy: 0.9877 - precision: 0.9877 - recall: 0.9877 - val_loss: 0.1783 - val_auc: 0.9883 - val_accuracy: 0.9310 - val_precision: 0.9310 - val_recall: 0.9310\n",
      "Epoch 42/200\n",
      "11/11 [==============================] - 0s 48ms/step - loss: 0.0360 - auc: 0.9987 - accuracy: 0.9938 - precision: 0.9938 - recall: 0.9938 - val_loss: 0.2143 - val_auc: 0.9796 - val_accuracy: 0.9310 - val_precision: 0.9310 - val_recall: 0.9310\n",
      "Epoch 43/200\n",
      "11/11 [==============================] - 0s 37ms/step - loss: 0.0355 - auc: 0.9988 - accuracy: 0.9938 - precision: 0.9938 - recall: 0.9938 - val_loss: 0.1665 - val_auc: 0.9900 - val_accuracy: 0.9310 - val_precision: 0.9310 - val_recall: 0.9310\n",
      "Epoch 44/200\n",
      "11/11 [==============================] - 1s 54ms/step - loss: 0.0954 - auc: 0.9933 - accuracy: 0.9723 - precision: 0.9723 - recall: 0.9723 - val_loss: 0.1294 - val_auc: 0.9914 - val_accuracy: 0.9483 - val_precision: 0.9483 - val_recall: 0.9483\n",
      "Epoch 45/200\n",
      "11/11 [==============================] - 0s 33ms/step - loss: 0.0723 - auc: 0.9973 - accuracy: 0.9692 - precision: 0.9692 - recall: 0.9692 - val_loss: 0.2164 - val_auc: 0.9646 - val_accuracy: 0.9310 - val_precision: 0.9322 - val_recall: 0.9483\n",
      "Epoch 46/200\n",
      "11/11 [==============================] - 1s 49ms/step - loss: 0.0757 - auc: 0.9966 - accuracy: 0.9754 - precision: 0.9724 - recall: 0.9754 - val_loss: 0.1463 - val_auc: 0.9875 - val_accuracy: 0.9483 - val_precision: 0.9483 - val_recall: 0.9483\n",
      "Epoch 47/200\n",
      "11/11 [==============================] - 0s 30ms/step - loss: 0.0829 - auc: 0.9940 - accuracy: 0.9754 - precision: 0.9754 - recall: 0.9754 - val_loss: 0.1461 - val_auc: 0.9891 - val_accuracy: 0.9310 - val_precision: 0.9310 - val_recall: 0.9310\n",
      "Epoch 48/200\n",
      "11/11 [==============================] - 0s 43ms/step - loss: 0.0435 - auc: 0.9983 - accuracy: 0.9908 - precision: 0.9908 - recall: 0.9908 - val_loss: 0.1039 - val_auc: 0.9938 - val_accuracy: 0.9483 - val_precision: 0.9649 - val_recall: 0.9483\n",
      "Epoch 49/200\n",
      "11/11 [==============================] - 0s 33ms/step - loss: 0.0342 - auc: 0.9985 - accuracy: 0.9938 - precision: 0.9938 - recall: 0.9938 - val_loss: 0.1271 - val_auc: 0.9927 - val_accuracy: 0.9483 - val_precision: 0.9483 - val_recall: 0.9483\n",
      "Epoch 50/200\n",
      "11/11 [==============================] - 0s 41ms/step - loss: 0.0261 - auc: 0.9995 - accuracy: 0.9938 - precision: 0.9938 - recall: 0.9938 - val_loss: 0.1231 - val_auc: 0.9932 - val_accuracy: 0.9483 - val_precision: 0.9483 - val_recall: 0.9483\n",
      "Epoch 51/200\n",
      "11/11 [==============================] - 0s 37ms/step - loss: 0.0250 - auc: 0.9996 - accuracy: 0.9938 - precision: 0.9938 - recall: 0.9938 - val_loss: 0.1326 - val_auc: 0.9921 - val_accuracy: 0.9310 - val_precision: 0.9310 - val_recall: 0.9310\n",
      "Epoch 52/200\n",
      "11/11 [==============================] - 0s 48ms/step - loss: 0.0207 - auc: 0.9998 - accuracy: 0.9938 - precision: 0.9938 - recall: 0.9938 - val_loss: 0.1583 - val_auc: 0.9894 - val_accuracy: 0.9483 - val_precision: 0.9483 - val_recall: 0.9483\n",
      "Epoch 53/200\n",
      "11/11 [==============================] - 0s 37ms/step - loss: 0.0176 - auc: 0.9999 - accuracy: 0.9938 - precision: 0.9938 - recall: 0.9938 - val_loss: 0.1721 - val_auc: 0.9894 - val_accuracy: 0.9310 - val_precision: 0.9310 - val_recall: 0.9310\n",
      "Epoch 54/200\n",
      "11/11 [==============================] - 0s 40ms/step - loss: 0.0158 - auc: 0.9999 - accuracy: 0.9938 - precision: 0.9938 - recall: 0.9938 - val_loss: 0.1855 - val_auc: 0.9884 - val_accuracy: 0.9138 - val_precision: 0.9138 - val_recall: 0.9138\n",
      "Epoch 55/200\n",
      "11/11 [==============================] - 0s 33ms/step - loss: 0.0146 - auc: 0.9999 - accuracy: 0.9938 - precision: 0.9938 - recall: 0.9938 - val_loss: 0.2150 - val_auc: 0.9860 - val_accuracy: 0.9310 - val_precision: 0.9310 - val_recall: 0.9310\n",
      "Epoch 56/200\n",
      "11/11 [==============================] - 0s 44ms/step - loss: 0.0117 - auc: 1.0000 - accuracy: 0.9938 - precision: 0.9938 - recall: 0.9938 - val_loss: 0.2184 - val_auc: 0.9877 - val_accuracy: 0.9310 - val_precision: 0.9310 - val_recall: 0.9310\n",
      "Epoch 57/200\n",
      "11/11 [==============================] - 0s 38ms/step - loss: 0.0109 - auc: 1.0000 - accuracy: 0.9938 - precision: 0.9938 - recall: 0.9938 - val_loss: 0.1910 - val_auc: 0.9887 - val_accuracy: 0.9310 - val_precision: 0.9310 - val_recall: 0.9310\n",
      "Epoch 58/200\n",
      "11/11 [==============================] - 0s 44ms/step - loss: 0.0095 - auc: 1.0000 - accuracy: 0.9969 - precision: 0.9969 - recall: 0.9969 - val_loss: 0.1894 - val_auc: 0.9894 - val_accuracy: 0.9310 - val_precision: 0.9310 - val_recall: 0.9310\n",
      "Epoch 59/200\n",
      "11/11 [==============================] - 0s 35ms/step - loss: 0.0073 - auc: 1.0000 - accuracy: 0.9969 - precision: 0.9969 - recall: 0.9969 - val_loss: 0.1864 - val_auc: 0.9881 - val_accuracy: 0.9138 - val_precision: 0.9138 - val_recall: 0.9138\n",
      "Epoch 60/200\n",
      "11/11 [==============================] - 0s 40ms/step - loss: 0.0034 - auc: 1.0000 - accuracy: 1.0000 - precision: 1.0000 - recall: 1.0000 - val_loss: 0.2775 - val_auc: 0.9721 - val_accuracy: 0.9310 - val_precision: 0.9310 - val_recall: 0.9310\n",
      "Epoch 61/200\n",
      "11/11 [==============================] - 0s 33ms/step - loss: 0.0022 - auc: 1.0000 - accuracy: 1.0000 - precision: 1.0000 - recall: 1.0000 - val_loss: 0.2630 - val_auc: 0.9724 - val_accuracy: 0.9310 - val_precision: 0.9310 - val_recall: 0.9310\n",
      "Epoch 62/200\n",
      "11/11 [==============================] - 0s 48ms/step - loss: 0.0016 - auc: 1.0000 - accuracy: 1.0000 - precision: 1.0000 - recall: 1.0000 - val_loss: 0.2402 - val_auc: 0.9802 - val_accuracy: 0.9310 - val_precision: 0.9310 - val_recall: 0.9310\n"
     ]
    }
   ],
   "source": [
    "history = model.fit(X_train,y_train,\n",
    "callbacks=callbacks,\n",
    "epochs=parameters['epochs'],\n",
    "validation_data= (X_dev,y_dev))"
   ]
  },
  {
   "cell_type": "markdown",
   "metadata": {},
   "source": [
    "### Evaluate Model"
   ]
  },
  {
   "cell_type": "code",
   "execution_count": 37,
   "metadata": {},
   "outputs": [
    {
     "data": {
      "image/png": "[encoded data removed]",
      "text/plain": [
       "<Figure size 432x288 with 1 Axes>"
      ]
     },
     "metadata": {},
     "output_type": "display_data"
    }
   ],
   "source": [
    "plt.figure(figsize=(6, 4))\n",
    "plt.title(\"Learning curve (Accuracy)\")\n",
    "plt.plot(history.history['accuracy'], label='Accuracy')\n",
    "plt.plot(history.history['val_accuracy'], label = 'Validation Accuracy')\n",
    "plt.xlabel('Epoch')\n",
    "plt.ylabel('Scores')\n",
    "plt.ylim([0.5, 1])\n",
    "plt.legend(loc='lower right')\n",
    "plt.show() # Necessary to track plot with ClearML"
   ]
  },
  {
   "cell_type": "code",
   "execution_count": 38,
   "metadata": {},
   "outputs": [
    {
     "data": {
      "image/png": "[encoded data removed]",
      "text/plain": [
       "<Figure size 432x288 with 1 Axes>"
      ]
     },
     "metadata": {},
     "output_type": "display_data"
    }
   ],
   "source": [
    "plt.figure(figsize=(6, 4))\n",
    "plt.title(\"Learning curve (Loss)\")\n",
    "plt.plot(history.history['loss'], label='Training Loss')\n",
    "plt.plot(history.history['val_loss'], label = 'Validation Loss')\n",
    "plt.xlabel('Epoch')\n",
    "plt.ylabel('Loss')\n",
    "plt.legend(loc='upper right')\n",
    "plt.show() # Necessary to track plot with ClearML"
   ]
  },
  {
   "cell_type": "code",
   "execution_count": 39,
   "metadata": {},
   "outputs": [
    {
     "name": "stdout",
     "output_type": "stream",
     "text": [
      "3/3 [==============================] - 1s 14ms/step - loss: 0.5815 - auc: 0.9403 - accuracy: 0.9271 - precision: 0.9263 - recall: 0.9167\n"
     ]
    },
    {
     "data": {
      "text/plain": [
       "[0.5814575552940369,\n",
       " 0.9403212666511536,\n",
       " 0.9270833134651184,\n",
       " 0.9263157844543457,\n",
       " 0.9166666865348816]"
      ]
     },
     "execution_count": 39,
     "metadata": {},
     "output_type": "execute_result"
    }
   ],
   "source": [
    "model.evaluate(X_test,  y_test, verbose=1)"
   ]
  },
  {
   "cell_type": "markdown",
   "metadata": {},
   "source": [
    "# Close ClearML Task"
   ]
  },
  {
   "cell_type": "code",
   "execution_count": 127,
   "metadata": {},
   "outputs": [],
   "source": [
    "task.close()"
   ]
  }
 ],
 "metadata": {
  "kernelspec": {
   "display_name": "Python 3",
   "language": "python",
   "name": "python3"
  },
  "language_info": {
   "codemirror_mode": {
    "name": "ipython",
    "version": 3
   },
   "file_extension": ".py",
   "mimetype": "text/x-python",
   "name": "python",
   "nbconvert_exporter": "python",
   "pygments_lexer": "ipython3",
   "version": "3.9.7"
  }
 },
 "nbformat": 4,
 "nbformat_minor": 4
}
